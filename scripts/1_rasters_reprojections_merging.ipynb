{
 "cells": [
  {
   "cell_type": "markdown",
   "metadata": {},
   "source": [
    "## Import Libraries ##"
   ]
  },
  {
   "cell_type": "code",
   "execution_count": 1,
   "metadata": {},
   "outputs": [],
   "source": [
    "import os\n",
    "import math\n",
    "import pandas as pd\n",
    "import shapely\n",
    "import numpy as np\n",
    "import rasterio\n",
    "from rasterio.transform import from_origin\n",
    "import geoio\n",
    "from osgeo import gdal, osr, ogr\n",
    "import geopandas as gpd\n",
    "import shapefile as shp\n",
    "from shapely.geometry import Point, Polygon\n",
    "from scipy.interpolate import griddata\n",
    "from sklearn.model_selection import train_test_split, GridSearchCV\n",
    "from sklearn.ensemble import RandomForestRegressor\n",
    "from sklearn.linear_model import LinearRegression\n",
    "from sklearn.metrics import mean_squared_error, r2_score\n",
    "from sklearn.preprocessing import StandardScaler, RobustScaler\n",
    "from sklearn.impute import SimpleImputer\n",
    "import matplotlib.pyplot as plt\n",
    "from tqdm import tqdm\n",
    "from rasterio.features import geometry_window, geometry_mask, shapes\n",
    "from rasterio.warp import reproject, Resampling\n",
    "from rasterio.enums import Resampling"
   ]
  },
  {
   "cell_type": "markdown",
   "metadata": {},
   "source": [
    "## Define Filepaths ##"
   ]
  },
  {
   "cell_type": "code",
   "execution_count": 7,
   "metadata": {},
   "outputs": [],
   "source": [
    "BASE_DIR = 'C:\\\\Users\\\\chris\\\\Desktop\\\\use-of-AI-to-eradicate-extreme-poverty'\n",
    "SETTLEMENT_DIRS = [\n",
    "    os.path.join(BASE_DIR, 'data/GlobalHumanSettlement/GHS_BUILT_S_E2020_GLOBE_R2023A_54009_100_V1_0_R11_C22.tif'),\n",
    "    os.path.join(BASE_DIR, 'data/GlobalHumanSettlement/GHS_BUILT_S_E2020_GLOBE_R2023A_54009_100_V1_0_R12_C22.tif')\n",
    "]\n",
    "NIGHTLIGHTS_DIR = os.path.join(BASE_DIR, 'data', 'nightlights', 'viirs_2020_00N060W.tif')\n",
    "ROADS_DIR = os.path.join(BASE_DIR, 'data', 'roads', 'GRIP4_density_total','grip4_total_dens_m_km2.asc')\n",
    "HEALTH_DIR = os.path.join(BASE_DIR, 'data', 'health_facilities', 'healthcare_2020.shp')\n",
    "LSMS_DIR = os.path.join(BASE_DIR, 'data', 'LSMS_2019')\n",
    "csv_file_path = os.path.join(LSMS_DIR, 'HouseholdGeovariables_csv', 'householdgeovariables_ihs5.csv')"
   ]
  },
  {
   "cell_type": "markdown",
   "metadata": {},
   "source": [
    "## Raster Reprojection and Merging ##"
   ]
  },
  {
   "cell_type": "markdown",
   "metadata": {},
   "source": [
    "### Roads ###"
   ]
  },
  {
   "cell_type": "code",
   "execution_count": 3,
   "metadata": {},
   "outputs": [
    {
     "name": "stdout",
     "output_type": "stream",
     "text": [
      "Reprojection complete. Output saved at C:\\Users\\chris\\Desktop\\use-of-AI-to-eradicate-extreme-poverty\\data\\roads\\GRIP4_density_total\\grip4_total_dens_m_km2_4326.tif\n"
     ]
    }
   ],
   "source": [
    "#function to reproject road density data\n",
    "\n",
    "def reproject_raster(input_tif, output_tif, target_epsg=4326):\n",
    "    # Open the source dataset\n",
    "    src_ds = gdal.Open(input_tif)\n",
    "    if src_ds is None:\n",
    "        raise RuntimeError(\"Unable to open the input file\")\n",
    "\n",
    "    # Define the target spatial reference using EPSG code\n",
    "    target_srs = osr.SpatialReference()\n",
    "    target_srs.ImportFromEPSG(target_epsg)\n",
    "\n",
    "    # Get the source geotransform and spatial reference\n",
    "    src_gt = src_ds.GetGeoTransform()\n",
    "    src_srs = src_ds.GetProjectionRef()\n",
    "\n",
    "    # Define the destination geotransform and spatial reference\n",
    "    dst_gt = list(src_gt)\n",
    "    dst_srs = target_srs.ExportToWkt()\n",
    "\n",
    "    # Perform the reprojection\n",
    "    dst_ds = gdal.Warp(output_tif, src_ds, dstSRS=dst_srs, format='GTiff')\n",
    "    if dst_ds is None:\n",
    "        raise RuntimeError(\"Reprojection failed.\")\n",
    "    \n",
    "    # Clean up\n",
    "    dst_ds = None\n",
    "    src_ds = None\n",
    "    print(f\"Reprojection complete. Output saved at {output_tif}\")\n",
    "\n",
    "# Use the function\n",
    "ROADS_DIR = os.path.join(BASE_DIR, 'data', 'roads', 'GRIP4_density_total', 'grip4_total_dens_m_km2.asc')\n",
    "output_road_density_tif = os.path.join(BASE_DIR, 'data', 'roads', 'GRIP4_density_total', 'grip4_total_dens_m_km2_4326.tif')\n",
    "reproject_raster(ROADS_DIR, output_road_density_tif)"
   ]
  },
  {
   "cell_type": "code",
   "execution_count": 8,
   "metadata": {},
   "outputs": [],
   "source": [
    "df = pd.read_csv(csv_file_path) ## to read  the LSMS data csvs"
   ]
  },
  {
   "cell_type": "markdown",
   "metadata": {},
   "source": [
    "### Builtup areas ###"
   ]
  },
  {
   "cell_type": "code",
   "execution_count": 10,
   "metadata": {},
   "outputs": [
    {
     "name": "stdout",
     "output_type": "stream",
     "text": [
      "Merge and reprojection complete. Output saved at C:\\Users\\chris\\Desktop\\use-of-AI-to-eradicate-extreme-poverty\\results\\rasters\\settlements_merged.tif\n"
     ]
    }
   ],
   "source": [
    "#function to merge and reproject built up areas data\n",
    "def merge_and_reproject(input_tifs, output_tif):\n",
    "    # create a VRT to  merge TIFFs\n",
    "    vrt_options = gdal.BuildVRTOptions(resampleAlg=gdal.GRA_NearestNeighbour, separate=False)\n",
    "    vrt = gdal.BuildVRT(\"/vsimem/temp.vrt\", input_tifs, options=vrt_options)\n",
    "    if vrt is None:\n",
    "        raise RuntimeError(\"Failed to create a virtual raster for merging.\")\n",
    "\n",
    "    # define the target spatial reference (WGS84)\n",
    "    target_srs = osr.SpatialReference()\n",
    "    target_srs.ImportFromEPSG(4326)\n",
    "\n",
    "    # reprject the virtual merged raster\n",
    "    warp_options = gdal.WarpOptions(dstSRS=target_srs.ExportToWkt(), resampleAlg=gdal.GRA_NearestNeighbour)\n",
    "    result_ds = gdal.Warp(output_tif, vrt, options=warp_options)\n",
    "    if result_ds is None:\n",
    "        raise RuntimeError(\"Reprojection failed.\")\n",
    "\n",
    "    result_ds = None\n",
    "    vrt = None\n",
    "    print(f\"Merge and reprojection complete. Output saved at {output_tif}\")\n",
    "\n",
    "# define the base directory\n",
    "BASE_DIR = r'C:\\Users\\chris\\Desktop\\use-of-AI-to-eradicate-extreme-poverty'\n",
    "\n",
    "# predefined paths for input TIFFs\n",
    "SETTLEMENT_DIRS = [\n",
    "    os.path.join(BASE_DIR, 'data', 'GlobalHumanSettlement', 'GHS_BUILT_S_E2020_GLOBE_R2023A_54009_100_V1_0_R11_C22.tif'),\n",
    "    os.path.join(BASE_DIR, 'data', 'GlobalHumanSettlement', 'GHS_BUILT_S_E2020_GLOBE_R2023A_54009_100_V1_0_R12_C22.tif')\n",
    "]\n",
    "\n",
    "# define the output path for the merged and reprojected TIFF\n",
    "output_tif = os.path.join(BASE_DIR, 'results', 'rasters', 'settlements_merged.tif')\n",
    "\n",
    "\n",
    "output_dir = os.path.dirname(output_tif)\n",
    "if not os.path.exists(output_dir):\n",
    "    os.makedirs(output_dir)\n",
    "\n",
    "# execute the function\n",
    "merge_and_reproject(SETTLEMENT_DIRS, output_tif)"
   ]
  },
  {
   "cell_type": "markdown",
   "metadata": {},
   "source": [
    "### Health facilities ###"
   ]
  },
  {
   "cell_type": "code",
   "execution_count": null,
   "metadata": {},
   "outputs": [],
   "source": [
    "## add heatmap function ##"
   ]
  }
 ],
 "metadata": {
  "environment": {
   "name": "pytorch-gpu.1-4.m46",
   "type": "gcloud",
   "uri": "gcr.io/deeplearning-platform-release/pytorch-gpu.1-4:m46"
  },
  "kernelspec": {
   "display_name": "Python (poverty)",
   "language": "python",
   "name": "poverty"
  },
  "language_info": {
   "codemirror_mode": {
    "name": "ipython",
    "version": 3
   },
   "file_extension": ".py",
   "mimetype": "text/x-python",
   "name": "python",
   "nbconvert_exporter": "python",
   "pygments_lexer": "ipython3",
   "version": "3.11.9"
  }
 },
 "nbformat": 4,
 "nbformat_minor": 4
}
